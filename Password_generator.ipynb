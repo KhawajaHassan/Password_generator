{
  "nbformat": 4,
  "nbformat_minor": 0,
  "metadata": {
    "colab": {
      "provenance": []
    },
    "kernelspec": {
      "name": "python3",
      "display_name": "Python 3"
    },
    "language_info": {
      "name": "python"
    }
  },
  "cells": [
    {
      "cell_type": "code",
      "execution_count": 1,
      "metadata": {
        "colab": {
          "base_uri": "https://localhost:8080/"
        },
        "id": "iRPpZTouGPx8",
        "outputId": "118cbd5d-8866-4cd8-8cec-512bce70a746"
      },
      "outputs": [
        {
          "output_type": "stream",
          "name": "stdout",
          "text": [
            "Welcome to the Password Generator!\n",
            "Enter the desired password length: 6\n",
            "Include letters? (y/n): y\n",
            "Include numbers? (y/n): y\n",
            "Include symbols? (y/n): y\n",
            "\n",
            "Generated Password: o;-i^|\n"
          ]
        }
      ],
      "source": [
        "import random\n",
        "import string\n",
        "\n",
        "def generate_password(length, use_letters, use_numbers, use_symbols):\n",
        "    character_pool = \"\"\n",
        "\n",
        "    if use_letters:\n",
        "        character_pool += string.ascii_letters\n",
        "    if use_numbers:\n",
        "        character_pool += string.digits\n",
        "    if use_symbols:\n",
        "        character_pool += string.punctuation\n",
        "\n",
        "    if not character_pool:\n",
        "        print(\"Error: No character types selected. Please select at least one character type.\")\n",
        "        return None\n",
        "\n",
        "    password = ''.join(random.choice(character_pool) for _ in range(length))\n",
        "    return password\n",
        "\n",
        "def main():\n",
        "    print(\"Welcome to the Password Generator!\")\n",
        "\n",
        "    try:\n",
        "        # Prompt for password length\n",
        "        length = int(input(\"Enter the desired password length: \"))\n",
        "        if length <= 0:\n",
        "            print(\"Password length must be a positive integer.\")\n",
        "            return\n",
        "\n",
        "        # Prompt for character type preferences\n",
        "        use_letters = input(\"Include letters? (y/n): \").strip().lower() == 'y'\n",
        "        use_numbers = input(\"Include numbers? (y/n): \").strip().lower() == 'y'\n",
        "        use_symbols = input(\"Include symbols? (y/n): \").strip().lower() == 'y'\n",
        "\n",
        "        # Generate and display the password\n",
        "        password = generate_password(length, use_letters, use_numbers, use_symbols)\n",
        "        if password:\n",
        "            print(f\"\\nGenerated Password: {password}\")\n",
        "\n",
        "    except ValueError:\n",
        "        print(\"Invalid input. Please enter a valid number for password length.\")\n",
        "\n",
        "if __name__ == \"__main__\":\n",
        "    main()\n"
      ]
    }
  ]
}